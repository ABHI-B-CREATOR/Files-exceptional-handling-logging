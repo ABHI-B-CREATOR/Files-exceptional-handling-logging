{
 "cells": [
  {
   "cell_type": "markdown",
   "id": "9d779a9e-0ba5-4b78-a9e9-c21153ccd7c1",
   "metadata": {},
   "source": [
    "Question-1 What is the difference between interpreted and compiled languages?\n",
    "## Interpreted Language\n",
    "\n",
    "- Definition: In interpreted languages, the source code is executed directly by an interpreter line-by-line or statement-by-statement during runtime.\n",
    "\n",
    "- Execution Process: The interpreter translates the source code into machine code at the moment of execution.\n",
    "\n",
    "## Compiler Language\n",
    "\n",
    "- Definition: In compiled languages, the source code is translated into machine code by a compiler before execution.\n",
    "\n",
    "- Execution Process: The compilation process produces an executable file, which can be run on the target machine without needing the source code or the compiler."
   ]
  },
  {
   "cell_type": "markdown",
   "id": "6c9eada1-c0ea-4c2e-8fd7-cb2a96f5d83d",
   "metadata": {},
   "source": [
    "Question-2 What is exception handling in Python?\n",
    "\n",
    "- In python an exception is an event that occurs during programme execution that disrupts the regular flow of code"
   ]
  },
  {
   "cell_type": "markdown",
   "id": "2325218b-36c5-47fb-9ad9-933d0b49041d",
   "metadata": {},
   "source": [
    "Question-3 What is the purpose of the finally block in exception handling?\n",
    "\n",
    "- The finally block in exception handling is used to execute code that must run regardless of whether an exception is raised or not."
   ]
  },
  {
   "cell_type": "markdown",
   "id": "1c6a0c42-a5ec-40db-8744-92b1819f4685",
   "metadata": {},
   "source": [
    "Question-4 What is logging in Python?\n",
    "\n",
    "- It records the state and flow of your program/code/software. it is useful for understanding, monitoring and debugging of your code. it shows how program behaves over time.\n"
   ]
  },
  {
   "cell_type": "markdown",
   "id": "160e6427-fa5a-4872-8ec7-72d58d02d89f",
   "metadata": {},
   "source": [
    "Question-5 What is the significance of the __del__ method in Python?\n",
    "\n",
    "- The __del__ method in Python is a special method called the destructor. It is invoked when an object is about to be destroyed. This method allows you to define cleanup actions, such as releasing resources or performing specific tasks before the object is deleted"
   ]
  },
  {
   "cell_type": "markdown",
   "id": "c697ab66-f5be-42c5-87a1-c0b22ef08efe",
   "metadata": {},
   "source": [
    "Question-6 What is the difference between import and from ... import in Python?\n",
    "\n",
    "- The import statement imports the entire module, allowing you to access its members (functions, classes, variables) by referencing the module name.\n",
    "\n",
    "- The from is used for package and the import is used for module.It is used to import specific members(functions,classes,variables)"
   ]
  },
  {
   "cell_type": "markdown",
   "id": "fbdff961-e35d-4689-b37d-d09f697139a9",
   "metadata": {},
   "source": [
    "Question-7 How can you handle multiple exceptions in Python?"
   ]
  },
  {
   "cell_type": "code",
   "execution_count": 3,
   "id": "4bf80959-3b2e-47fe-a929-6de81c4ab0df",
   "metadata": {
    "collapsed": true,
    "jupyter": {
     "outputs_hidden": true
    }
   },
   "outputs": [
    {
     "name": "stdout",
     "output_type": "stream",
     "text": [
      "there are some error in this code unsupported operand type(s) for /: 'int' and 'str'\n"
     ]
    }
   ],
   "source": [
    "try:\n",
    "    10/\"3\"\n",
    "except ZeroDivisionError as e:\n",
    "    print(\"the value is not executed because of :\",e)\n",
    "except TypeError as e:\n",
    "    print(\"there are some error in this code\", e)"
   ]
  },
  {
   "cell_type": "markdown",
   "id": "1657b92f-df6e-4a0b-99cf-5ba8ac1aab23",
   "metadata": {},
   "source": [
    "Question-8 What is the purpose of the with statement when handling files in Python?\n",
    "\n",
    "- \"With\" statment ensures that the file is closed properly after the block of code is executed, it will free up system resources and avoid issues like data corruption or file lock"
   ]
  },
  {
   "cell_type": "markdown",
   "id": "35600b5c-5994-4495-9924-d5cc46250b6c",
   "metadata": {},
   "source": [
    "Question-9 What is the difference between multithreading and multiprocessing?\n",
    "\n",
    "## MUTLI THREADING\n",
    "\n",
    "- Since it happens on one processor threads share same memory space and resources within in a process\n",
    "\n",
    "- It runs concurrently (GIL)\n",
    "\n",
    "- Use case >> Best for tasks that are part of same application and need to share data or resources.\n",
    "\n",
    "## MULTI PROCESSING\n",
    "- Multiple cores/processor are there , each process has its own memory spcae and resources hich one isolated from other process.\n",
    "\n",
    "- Truly parallel on multiple CPU crores (no GIL)\n",
    "\n",
    "- Suitable for task that are independent and can run in isolation."
   ]
  },
  {
   "cell_type": "markdown",
   "id": "4cb8ed61-c37c-49a4-af72-31cd4702b743",
   "metadata": {},
   "source": [
    "Question-10 What are the advantages of using logging in a program?\n",
    "\n",
    "**Debugging and Troubleshooting**\n",
    "\n",
    "- Logs help developers identify and diagnose issues in the code by providing detailed information about the program's execution flow, errors, and unexpected behaviors.\n",
    "\n",
    "  \n",
    "**Improved Monitoring**\n",
    "  \n",
    "- Logs enable real-time monitoring of applications in production, allowing developers or administrators to track system performance, detect anomalies, and identify bottlenecks.\n",
    "\n",
    "  \n",
    "**Persistent Record**\n",
    "\n",
    "- Logs create a permanent record of application activity, making it easier to investigate incidents, analyze past events, and meet compliance requirements.\n",
    "\n",
    "\n",
    "**Customizable Output**\n",
    "\n",
    "- Logging frameworks allow for various levels of detail (e.g., DEBUG, INFO, WARNING, ERROR, CRITICAL), making it easy to control the verbosity of logs for different environments (e.g., development vs. production).\n",
    "\n",
    "**Error Tracking**\n",
    "\n",
    "- Logs capture error details, including stack traces and error codes, which can be invaluable for understanding and fixing bugs."
   ]
  },
  {
   "cell_type": "markdown",
   "id": "ee9c704b-0fb5-4bc4-9644-e2a5b36548c4",
   "metadata": {},
   "source": [
    "Question-11 What is memory management in Python?\n",
    "\n",
    "- Memory management in Python refers to the process of allocating, using, and deallocating memory during the execution of a program. It is handled automatically by Python through its built-in memory management system,"
   ]
  },
  {
   "cell_type": "markdown",
   "id": "b50aa3dd-b2b8-4af1-97a6-8c2b099238f4",
   "metadata": {},
   "source": [
    "Question-12 What are the basic steps involved in exception handling in Python?\n",
    "\n",
    "**Specificity in Exception Handling**\n",
    "\n",
    "- Catch specific exceptions rather than using a broad `except` clause.\n",
    "\n",
    "**Use of `finally` Block**\n",
    "\n",
    "- Use the `finally` block to ensure that certain code runs whether an exception is raised or not.\n",
    "\n",
    "**Logging Exceptions**\n",
    "\n",
    "- Log exceptions to provide detailed information for debugging.\n",
    "\n",
    "**Raising Exceptions**\n",
    "\n",
    "- Raise exceptions to indicate errors or unexpected conditions.\n",
    "\n",
    "**Handling Multiple Exceptions**\n",
    "\n",
    "- Handle multiple exceptions in separate except blocks."
   ]
  },
  {
   "cell_type": "markdown",
   "id": "31210ca6-745d-4db1-a0e0-3713710661cc",
   "metadata": {},
   "source": [
    "Question-13 Why is memory management important in Python?\n",
    "\n",
    "- Memory management is critically important in Python, as it directly affects the efficiency, performance, and reliability of programs."
   ]
  },
  {
   "cell_type": "markdown",
   "id": "5b46267e-4ab7-4277-b749-c485f522e71c",
   "metadata": {},
   "source": [
    "Question-14 What is the role of try and except in exception handling?\n",
    "\n",
    "- To handle exceptions, we must utilise the try and except blocks. Define dangerous code that can throw an exception inside the try block and related handling code inside the except block.\n",
    "\n",
    "**Syntax**\n",
    "\n",
    "try:\n",
    "\n",
    "statements in try block\n",
    "\n",
    "except:\n",
    "\n",
    "executed when exception occurred in try block"
   ]
  },
  {
   "cell_type": "markdown",
   "id": "28407f04-65e8-40a4-9e3e-810baae289cd",
   "metadata": {},
   "source": [
    "Question-15 How does Python's garbage collection system work?\n",
    "\n",
    "- Python's garbage collection system is a part of its memory management mechanism, designed to automatically reclaim memory that is no longer in use. It ensures efficient utilization of memory while reducing the risk of memory leaks. "
   ]
  },
  {
   "cell_type": "markdown",
   "id": "9a6df679-673f-4b60-91e7-b20365642886",
   "metadata": {},
   "source": [
    "Question-16 What is the purpose of the else block in exception handling?\n",
    "\n",
    "- Use the else statement in conjunction with If you want to run a specific code only if an exception is not produced, use the try block to check if the try block was executed without an exception."
   ]
  },
  {
   "cell_type": "markdown",
   "id": "881e29a6-b1e2-459e-baf0-e6557c6dfe59",
   "metadata": {},
   "source": [
    "Question-17 What are the common logging levels in Python?\n",
    "\n",
    "**The common logging levels in python:**\n",
    "\n",
    "- INFO\n",
    "\n",
    "- WARNING\n",
    "\n",
    "- DEBUG\n",
    "\n",
    "- ERROR\n",
    "\n",
    "- CRITICAL"
   ]
  },
  {
   "cell_type": "markdown",
   "id": "e4030fe8-05e2-4b91-9cb3-b13f69c0b684",
   "metadata": {},
   "source": [
    "Question-18 How would you implement a basic logging setup that logs to a file with rotation after 1MB?\n",
    "\n",
    "- os.fork() is a low-level system call that creates a new process by duplicating the current process. It is available on Unix-based systems (e.g., Linux, macOS) but not on Windows.\n",
    "\n",
    "- The multiprocessing module provides a high-level interface for creating and managing processes. It works across all major platforms, including Windows, macOS, and Linux."
   ]
  },
  {
   "cell_type": "markdown",
   "id": "7ee846c9-01a8-4369-b2d0-94f8da6d9c50",
   "metadata": {},
   "source": [
    "Question-19 What is the importance of closing a file in Python?\n",
    "\n",
    "- The importance of closing a file in python is define if you write something or some content in the file and you execute the code without closing the file then, the given file content will not show. That's why clsoing the file after writing the content or reading a content."
   ]
  },
  {
   "cell_type": "markdown",
   "id": "047704bb-dece-4214-b561-30bb4337a47e",
   "metadata": {},
   "source": [
    "Question-20 What is the difference between file.read() and file.readline() in Python?\n",
    "\n",
    "- File.read() will tell the current position of the cursor, by default it is at last position.\n",
    "\n",
    "- On the other hand, File.readline() will print only one line ,which is the first line of a file."
   ]
  },
  {
   "cell_type": "markdown",
   "id": "03a3635f-7a64-4249-9a55-49fd4dec9fff",
   "metadata": {},
   "source": [
    "Question-21 What is the logging module in Python used for?\n",
    "\n",
    "- The logging module in Python is a built-in library used to record (log) messages that are useful for tracking the execution of a program and diagnosing problems. "
   ]
  },
  {
   "cell_type": "markdown",
   "id": "343bb535-bda6-49e6-8e39-11d8a40a3698",
   "metadata": {},
   "source": [
    "Question-22 What is the os module in Python used for in file handling?\n",
    "\n",
    "- The os module in Python provides a way of using operating system-dependent functionality, making it a powerful tool for file handling and interaction with the file system"
   ]
  },
  {
   "cell_type": "markdown",
   "id": "dedd9c49-90dd-40e1-8374-7a97a40b5d8e",
   "metadata": {},
   "source": [
    "Question-23 What are the challenges associated with memory management in Python?\n",
    "\n",
    "- Memory management in Python is generally handled automatically through its built-in memory management mechanisms, such as garbage collection and reference counting. However, there are some challenges and considerations associated with Python's memory management:\n",
    "\n",
    "- Reference Cycle\n",
    "\n",
    "- Fragmentation\n",
    "\n",
    "- Global Interpreter lock (GIL)\n",
    "\n",
    "- Memory Leaks\n",
    "\n",
    "- Large Object Lifespan"
   ]
  },
  {
   "cell_type": "markdown",
   "id": "56485122-83b2-4391-b76b-6141afa2a5a9",
   "metadata": {},
   "source": [
    "Question-24 How do you raise an exception manually in Python?\n",
    "\n",
    "- In Python, you can manually raise an exception using the raise keyword. This is typically done when you want to signal that an error or an exceptional condition has occurred during program execution"
   ]
  },
  {
   "cell_type": "markdown",
   "id": "835af61c-8616-4a8c-b136-de8375a43cc7",
   "metadata": {},
   "source": [
    "Question-25 Why is it important to use multithreading in certain applications?\n",
    "\n",
    "- Multithreading is important in certain applications because it allows a program to perform multiple tasks concurrently within the same process. This can improve performance, responsiveness, and efficiency in scenarios where tasks can run independently or involve waiting for external events. "
   ]
  },
  {
   "cell_type": "markdown",
   "id": "88cb50cb-9f0a-437b-a067-aa0bae4ef079",
   "metadata": {},
   "source": [
    "# PRACTICAL QUESTIONS\n"
   ]
  },
  {
   "cell_type": "markdown",
   "id": "793d9d64-3816-4942-a5da-320676f24f63",
   "metadata": {},
   "source": [
    "Question-1 How can you open a file for writing in Python and write a string to it?"
   ]
  },
  {
   "cell_type": "code",
   "execution_count": 4,
   "id": "5c838c82-e123-4316-891c-a0295276dd39",
   "metadata": {},
   "outputs": [],
   "source": [
    "file = open(\"abhi.txt\",\"w\")\n",
    "file.write(\"hello this is my first line in the text file\")\n",
    "file.close()"
   ]
  },
  {
   "cell_type": "markdown",
   "id": "9723c88b-c43b-4008-8806-24eb2f06a4e0",
   "metadata": {},
   "source": [
    "Question-2 Write a Python program to read the contents of a file and print each line?"
   ]
  },
  {
   "cell_type": "code",
   "execution_count": 24,
   "id": "ef73b4da-2628-4ead-8946-f342de7a1a4f",
   "metadata": {},
   "outputs": [],
   "source": [
    "file = open(\"abhi.txt\",\"a\")\n",
    "file.write(\"this is another line\\n\")\n",
    "file.write(\"this is third line\\n\")\n",
    "file.write(\"this is fourth line\\n\")\n",
    "file.close()"
   ]
  },
  {
   "cell_type": "code",
   "execution_count": 15,
   "id": "f3d12de5-c9bb-4e7c-bfe0-0e50f9c21dc0",
   "metadata": {
    "scrolled": true
   },
   "outputs": [
    {
     "name": "stdout",
     "output_type": "stream",
     "text": [
      "this is another linethis is third line this is another linethis is third line this is fourth linethis is another linethis is third line this is fourth linethis is another line\n",
      "\n",
      "this is third line\n",
      "\n",
      " this is fourth line\n",
      "\n"
     ]
    }
   ],
   "source": [
    "file = open(\"abhi.txt\",\"r\")\n",
    "for i in file:\n",
    "    print(i)"
   ]
  },
  {
   "cell_type": "markdown",
   "id": "3bee519f-1f78-49a1-8f40-a075dc3b947d",
   "metadata": {},
   "source": [
    "Question-3 How would you handle a case where the file doesn't exist while trying to open it for reading?"
   ]
  },
  {
   "cell_type": "code",
   "execution_count": 1,
   "id": "ea781158-20ae-4c69-b59c-0d88af807d4c",
   "metadata": {},
   "outputs": [
    {
     "name": "stdout",
     "output_type": "stream",
     "text": [
      "Error: The file does not exist.,[Errno 2] No such file or directory: 'nonexistent_file.txt'\n"
     ]
    }
   ],
   "source": [
    "try:\n",
    "    with open(\"nonexistent_file.txt\", \"r\") as file:\n",
    "        content = file.read()\n",
    "        print(content)\n",
    "except FileNotFoundError as e:\n",
    "    print(f\"Error: The file does not exist.,{e}\")\n"
   ]
  },
  {
   "cell_type": "markdown",
   "id": "965aae1a-037c-4f0d-b29c-e05a909d2c0d",
   "metadata": {},
   "source": [
    "Question-4 Write a Python script that reads from one file and writes its content to another file?"
   ]
  },
  {
   "cell_type": "code",
   "execution_count": 2,
   "id": "c010247d-3e82-4bf4-a834-38a2f5228705",
   "metadata": {},
   "outputs": [
    {
     "name": "stdin",
     "output_type": "stream",
     "text": [
      "Enter the source file path:  sorce\n",
      "Enter the destination file path:  destination\n"
     ]
    },
    {
     "name": "stdout",
     "output_type": "stream",
     "text": [
      "Error: The file 'sorce' does not exist.\n"
     ]
    }
   ],
   "source": [
    "def copy_file(source_file, destination_file):\n",
    "    try:\n",
    "        # Open the source file for reading\n",
    "        with open(source_file, \"r\") as src:\n",
    "            # Read content from the source file\n",
    "            content = src.read()\n",
    "        \n",
    "        # Open the destination file for writing\n",
    "        with open(destination_file, \"w\") as dest:\n",
    "            # Write content to the destination file\n",
    "            dest.write(content)\n",
    "        \n",
    "        print(f\"Content copied from '{source_file}' to '{destination_file}'.\")\n",
    "    \n",
    "    except FileNotFoundError:\n",
    "        print(f\"Error: The file '{source_file}' does not exist.\")\n",
    "    except PermissionError:\n",
    "        print(f\"Error: Insufficient permissions to read or write the file.\")\n",
    "    except Exception as e:\n",
    "        print(f\"An unexpected error occurred: {e}\")\n",
    "\n",
    "# Usage\n",
    "source = input(\"Enter the source file path: \")\n",
    "destination = input(\"Enter the destination file path: \")\n",
    "copy_file(source, destination)\n"
   ]
  },
  {
   "cell_type": "markdown",
   "id": "0f825856-f21a-4f55-9f35-dead3f287363",
   "metadata": {},
   "source": [
    "Question-5 How would you catch and handle division by zero error in Python?"
   ]
  },
  {
   "cell_type": "code",
   "execution_count": 21,
   "id": "8bc3aa5a-cc35-4695-8ac0-51ee2f14fa39",
   "metadata": {},
   "outputs": [
    {
     "name": "stdout",
     "output_type": "stream",
     "text": [
      "Error is division by zero \n"
     ]
    }
   ],
   "source": [
    "try:\n",
    "    10/0\n",
    "except ZeroDivisionError as e:\n",
    "    print(f\"Error is {e} \")"
   ]
  },
  {
   "cell_type": "markdown",
   "id": "dcbc0a74-cbb0-4a1a-b9dc-a06594788bf3",
   "metadata": {},
   "source": [
    "Question-6 Write a Python program that logs an error message to a log file when a division by zero exception occurs?"
   ]
  },
  {
   "cell_type": "code",
   "execution_count": 23,
   "id": "2d11dc4d-203f-42ee-9b8e-0ba514d0ce95",
   "metadata": {},
   "outputs": [
    {
     "name": "stdin",
     "output_type": "stream",
     "text": [
      "Enter the numerator:  10\n",
      "Enter the denominator:  0\n"
     ]
    },
    {
     "name": "stdout",
     "output_type": "stream",
     "text": [
      "Error: Division by zero is not allowed. Check the log file for details.\n"
     ]
    }
   ],
   "source": [
    "import logging\n",
    "logging.basicConfig(filename = \"error.log\", level = logging.ERROR, format = '%(asctime)s %(message)s')\n",
    "\n",
    "def divide_numbers(a, b):\n",
    "    try:\n",
    "        result = a / b\n",
    "        print(f\"Result: {result}\")\n",
    "    except ZeroDivisionError as e:\n",
    "        # Log the error to the file\n",
    "        logging.error(\"Division by zero error occurred.\", exc_info=True)\n",
    "        print(\"Error: Division by zero is not allowed. Check the log file for details.\")\n",
    "\n",
    "# Example usage\n",
    "num1 = float(input(\"Enter the numerator: \"))\n",
    "num2 = float(input(\"Enter the denominator: \"))\n",
    "divide_numbers(num1, num2)"
   ]
  },
  {
   "cell_type": "markdown",
   "id": "3cff22df-e5f0-47d4-8dcb-112262bbfbdf",
   "metadata": {},
   "source": [
    "Question-7 How do you log information at different levels (INFO, ERROR, WARNING) in Python using the logging module?"
   ]
  },
  {
   "cell_type": "code",
   "execution_count": 27,
   "id": "40b0e8e3-b1b7-41ed-b277-89d775313868",
   "metadata": {},
   "outputs": [],
   "source": [
    "import logging\n",
    "logging.basicConfig(filename = \"Levels.log\", level = logging.DEBUG, format = '%(asctime)s %(message)s')\n",
    "\n",
    "logging.debug(\"This msg is for debugging\")\n",
    "logging.info(\"This is my info msg\")\n",
    "logging.warning(\"This is my warning msg\")\n",
    "logging.shutdown()"
   ]
  },
  {
   "cell_type": "markdown",
   "id": "737b6688-81be-4af5-8c2c-748d26888355",
   "metadata": {},
   "source": [
    "Question-8 Write a program to handle a file opening error using exception handling?"
   ]
  },
  {
   "cell_type": "code",
   "execution_count": 30,
   "id": "9a362b9a-f90e-4f6e-ae91-c1a618005b48",
   "metadata": {},
   "outputs": [
    {
     "name": "stdout",
     "output_type": "stream",
     "text": [
      "the file is not exist as ,[Errno 2] No such file or directory: 'program.txt'\n"
     ]
    }
   ],
   "source": [
    "try:\n",
    "    name = open(\"program.txt\",\"r\")\n",
    "except FileNotFoundError as e:\n",
    "    print(f\"the file is not exist as ,{e}\")"
   ]
  },
  {
   "cell_type": "markdown",
   "id": "2336be3c-3d45-4713-b925-537b6f4fba9f",
   "metadata": {},
   "source": [
    "Question-9 How can you read a file line by line and store its content in a list in Python?"
   ]
  },
  {
   "cell_type": "code",
   "execution_count": 48,
   "id": "9d0a7536-635a-4945-9e87-32af1e7fa5d2",
   "metadata": {},
   "outputs": [
    {
     "name": "stdout",
     "output_type": "stream",
     "text": [
      "Error: The file 'example.txt' does not exist.\n"
     ]
    }
   ],
   "source": [
    "file_path = \"example.txt\"\n",
    "\n",
    "try:\n",
    "    lines = []\n",
    "    with open(\"file_path\", \"r\") as file:\n",
    "        for line in file:\n",
    "            lines.append(line.strip())  # Strip removes extra whitespace and newline characters\n",
    "    print(lines)\n",
    "except FileNotFoundError:\n",
    "    print(f\"Error: The file '{file_path}' does not exist.\")\n"
   ]
  },
  {
   "cell_type": "markdown",
   "id": "543bb553-0f57-4f04-877c-872542651eb2",
   "metadata": {},
   "source": [
    "Question-10 How can you append data to an existing file in Python?"
   ]
  },
  {
   "cell_type": "code",
   "execution_count": 54,
   "id": "c4d045a4-a892-492a-aecc-5c882dbd84ec",
   "metadata": {},
   "outputs": [],
   "source": [
    "file = open(\"another_file.txt\",\"w\")\n",
    "file.write(\"HELLO MY NAME IS ABHI\\n\")\n",
    "file.close()\n"
   ]
  },
  {
   "cell_type": "code",
   "execution_count": 57,
   "id": "196a73f8-8ab7-4f60-bceb-ac36a49a1b43",
   "metadata": {},
   "outputs": [],
   "source": [
    "file = open(\"another_file.txt\",\"a\")\n",
    "file.write(\"THIS IS MY ANOTHER FILE\\n\")\n",
    "file.write(\"PLEASE CLOSE THE FILE AFTER READ IT\\n\")\n",
    "file.close()"
   ]
  },
  {
   "cell_type": "markdown",
   "id": "58e307e3-944c-4864-8a43-dc6d90d6b555",
   "metadata": {},
   "source": [
    "Question-11 Write a Python program that uses a try-except block to handle an error when attempting to access a dictionary key that doesn't exist?"
   ]
  },
  {
   "cell_type": "code",
   "execution_count": 58,
   "id": "924a3de4-bba1-4d44-bb97-b1fa460a8f20",
   "metadata": {},
   "outputs": [],
   "source": [
    "dic = {\"NAME\" : \"ABHI\",\"COURSE\":\"BBA\",\"ROLL NO\": 22022}"
   ]
  },
  {
   "cell_type": "code",
   "execution_count": 61,
   "id": "da868d62-8e88-4faf-8cfd-65ab0e523c6a",
   "metadata": {},
   "outputs": [
    {
     "name": "stdout",
     "output_type": "stream",
     "text": [
      " the key is not found ,'key'\n"
     ]
    }
   ],
   "source": [
    "try:\n",
    "    dic = {\"NAME\" : \"ABHI\",\"COURSE\":\"BBA\",\"ROLL NO\": 22022}\n",
    "    dic[\"key\"]\n",
    "except KeyError as e:\n",
    "    print(f\" the key is not found ,{e}\")"
   ]
  },
  {
   "cell_type": "markdown",
   "id": "61fbc4ef-3270-4e67-9464-fcb97c7377b0",
   "metadata": {},
   "source": [
    "Question-12 Write a program that demonstrates using multiple except blocks to handle different types of exceptions?"
   ]
  },
  {
   "cell_type": "code",
   "execution_count": 64,
   "id": "36f58fe6-3c3d-4aed-b893-8c29e72f34bc",
   "metadata": {},
   "outputs": [
    {
     "name": "stdout",
     "output_type": "stream",
     "text": [
      "Error is division by zero \n"
     ]
    }
   ],
   "source": [
    "try:\n",
    "    10/0\n",
    "except ZeroDivisionError as e:\n",
    "    print(f\"Error is {e} \")\n",
    "except TypeError as e:\n",
    "    print(f\"Error is {e} \")"
   ]
  },
  {
   "cell_type": "markdown",
   "id": "68d7189b-7f6a-4459-902c-8e1aa22499c3",
   "metadata": {},
   "source": [
    "Question-13 How would you check if a file exists before attempting to read it in Python?"
   ]
  },
  {
   "cell_type": "code",
   "execution_count": 70,
   "id": "9b4ec704-725b-4b67-b630-5ebb2c9b9981",
   "metadata": {},
   "outputs": [
    {
     "data": {
      "text/plain": [
       "'hhe.txt'"
      ]
     },
     "execution_count": 70,
     "metadata": {},
     "output_type": "execute_result"
    }
   ],
   "source": [
    "aalu = open(\"hhe.txt\",\"w\")\n",
    "\n",
    "\".name will check that if the file is exist or not\"\n",
    "\n",
    "aalu.name"
   ]
  },
  {
   "cell_type": "markdown",
   "id": "0b13c68e-22b1-4bb0-9613-bf2273600f75",
   "metadata": {},
   "source": [
    "Question-14 Write a program that uses the logging module to log both informational and error messages?"
   ]
  },
  {
   "cell_type": "code",
   "execution_count": 71,
   "id": "8abc9f1d-e097-4979-96b0-0c5f773b98e1",
   "metadata": {},
   "outputs": [],
   "source": [
    "import logging\n",
    "logging.basicConfig(filename = \"app.log\", level = logging.DEBUG, format = '%(asctime)s %(message)s')\n",
    "\n",
    "\n",
    "# Log an informational message\n",
    "logging.info('Starting the program...')\n",
    "\n",
    "try:\n",
    "    # Some code that might raise an exception\n",
    "    result = 10 / 0\n",
    "except ZeroDivisionError:\n",
    "    # Log the error\n",
    "    logging.error('Division by zero error occurred!', exc_info=True)\n",
    "\n",
    "# Log another informational message\n",
    "logging.info('Program execution completed.')"
   ]
  },
  {
   "cell_type": "markdown",
   "id": "29b8a458-ab51-46a3-9387-bd88ac24401e",
   "metadata": {},
   "source": [
    "Question-15 Write a Python program that prints the content of a file and handles the case when the file is empty?"
   ]
  },
  {
   "cell_type": "code",
   "execution_count": 80,
   "id": "674a7608-a5d9-4f8f-bbb5-a01e4a220bf2",
   "metadata": {},
   "outputs": [
    {
     "name": "stdout",
     "output_type": "stream",
     "text": [
      "The file is empty.\n"
     ]
    }
   ],
   "source": [
    "def print_file_content(file_path):\n",
    "    try:\n",
    "        with open(file_path, 'r') as file:\n",
    "            content = file.read()\n",
    "            if content.strip() == \"\":\n",
    "                print(\"The file is empty.\")\n",
    "            else:\n",
    "                print(\"File Content:\")\n",
    "                print(content)\n",
    "    except FileNotFoundError:\n",
    "        print(f\"Error: The file '{file_path}' does not exist.\")\n",
    "    except Exception as e:\n",
    "        print(f\"An unexpected error occurred: {e}\")\n",
    "\n",
    "# Replace 'example.txt' with the path to your file\n",
    "file_path = 'example.txt'\n",
    "print_file_content(file_path)\n"
   ]
  },
  {
   "cell_type": "markdown",
   "id": "16e5d0a9-90b0-4c03-82de-2c6d9607d10e",
   "metadata": {},
   "source": [
    "Question-16 Demonstrate how to use memory profiling to check the memory usage of a small program?"
   ]
  },
  {
   "cell_type": "code",
   "execution_count": null,
   "id": "5cdbfeed-7cf3-41f7-ab95-50fc717eda84",
   "metadata": {},
   "outputs": [],
   "source": [
    "from memory_profiler import profile\n",
    "\n",
    "@profile\n",
    "def create_large_list():\n",
    "    # Function that creates a large list to simulate memory usage\n",
    "    large_list = [i for i in range(10**6)]  # List with 1 million integers\n",
    "    return sum(large_list)  # Summing all integers in the list\n",
    "\n",
    "if __name__ == \"__main__\":\n",
    "    result = create_large_list()\n",
    "    print(f\"Sum of list: {result}\")\n"
   ]
  },
  {
   "cell_type": "markdown",
   "id": "4994dca3-a6c3-40d3-8840-651dd9e73844",
   "metadata": {},
   "source": [
    "Question-17 Write a Python program to create and write a list of numbers to a file, one number per line?"
   ]
  },
  {
   "cell_type": "code",
   "execution_count": 82,
   "id": "318dda3e-3866-4b3d-a5d2-6b1368bd146d",
   "metadata": {},
   "outputs": [
    {
     "name": "stdout",
     "output_type": "stream",
     "text": [
      "Numbers have been written to 'numbers.txt'.\n"
     ]
    }
   ],
   "source": [
    "def write_numbers_to_file(file_path, numbers):\n",
    "    try:\n",
    "        with open(file_path, 'w') as file:\n",
    "            for number in numbers:\n",
    "                file.write(f\"{number}\\n\")\n",
    "        print(f\"Numbers have been written to '{file_path}'.\")\n",
    "    except Exception as e:\n",
    "        print(f\"An error occurred: {e}\")\n",
    "\n",
    "# List of numbers to write to the file\n",
    "numbers = [1, 2, 3, 4, 5, 6, 7, 8, 9, 10]\n",
    "\n",
    "# Specify the output file path\n",
    "file_path = \"numbers.txt\"\n",
    "\n",
    "# Call the function to write numbers to the file\n",
    "write_numbers_to_file(file_path, numbers)\n"
   ]
  },
  {
   "cell_type": "markdown",
   "id": "1f441870-c708-497c-b1cf-2b3d8c0dc326",
   "metadata": {},
   "source": [
    "Question-18 How would you implement a basic logging setup that logs to a file with rotation after 1MB?"
   ]
  },
  {
   "cell_type": "code",
   "execution_count": 2,
   "id": "eca05625-11fb-422b-a7a2-f5803b855488",
   "metadata": {},
   "outputs": [],
   "source": [
    "import logging\n",
    "from logging.handlers import RotatingFileHandler\n",
    "\n",
    "# Configure logging\n",
    "def setup_logger():\n",
    "    # Create a logger\n",
    "    logger = logging.getLogger(\"MyLogger\")\n",
    "    logger.setLevel(logging.DEBUG)  # Set the logging level\n",
    "\n",
    "    # Create a RotatingFileHandler\n",
    "    handler = RotatingFileHandler(\n",
    "        \"app.log\",       # Log file name\n",
    "        maxBytes=1_000_000,  # Maximum file size in bytes (1 MB)\n",
    "        backupCount=5    # Number of backup files to keep\n",
    "    )\n",
    "\n",
    "    # Define the log format\n",
    "    formatter = logging.Formatter(\n",
    "        \"%(asctime)s - %(name)s - %(levelname)s - %(message)s\"\n",
    "    )\n",
    "    handler.setFormatter(formatter)\n",
    "\n",
    "    # Add the handler to the logger\n",
    "    logger.addHandler(handler)\n",
    "\n",
    "    return logger\n",
    "\n",
    "# Set up the logger\n",
    "logger = setup_logger()\n",
    "\n",
    "# Example usage\n",
    "logger.debug(\"This is a debug message.\")\n",
    "logger.info(\"This is an info message.\")\n",
    "logger.warning(\"This is a warning message.\")\n",
    "logger.error(\"This is an error message.\")\n",
    "logger.critical(\"This is a critical message.\")\n"
   ]
  },
  {
   "cell_type": "markdown",
   "id": "dd19c3c4-5ec1-484e-9440-f5a4389cd6c5",
   "metadata": {},
   "source": [
    "Question-19 Write a program that handles both IndexError and KeyError using a try-except block?"
   ]
  },
  {
   "cell_type": "code",
   "execution_count": 85,
   "id": "2e4ed6a6-a513-418f-a754-5963d0797aca",
   "metadata": {},
   "outputs": [
    {
     "name": "stdout",
     "output_type": "stream",
     "text": [
      " The Error is :list index out of range\n"
     ]
    }
   ],
   "source": [
    "try:\n",
    "    l = [1,2,3,4]\n",
    "    l[4]\n",
    "except IndexError as e:\n",
    "    print(f\" The Error is :{e}\")\n",
    "except KeyError as e:\n",
    "    print(f\"The Error is :{e}\")"
   ]
  },
  {
   "cell_type": "markdown",
   "id": "b780ecfb-1e99-47fd-afd7-7d0b9dfe6ef8",
   "metadata": {},
   "source": [
    "Question-20 How would you open a file and read its contents using a context manager in Python?"
   ]
  },
  {
   "cell_type": "code",
   "execution_count": 87,
   "id": "041519de-8da8-4762-a5b6-81adf4794faa",
   "metadata": {},
   "outputs": [
    {
     "name": "stdout",
     "output_type": "stream",
     "text": [
      "The file 'exae.txt' does not exist.\n"
     ]
    }
   ],
   "source": [
    "file_path = \"exae.txt\"  # Specify the path to your file\n",
    "\n",
    "try:\n",
    "    with open(file_path, 'r') as file:  # Open the file in read mode\n",
    "        contents = file.read()  # Read the entire file content\n",
    "        print(\"File Contents:\")\n",
    "        print(contents)\n",
    "except FileNotFoundError:\n",
    "    print(f\"The file '{file_path}' does not exist.\")\n",
    "except Exception as e:\n",
    "    print(f\"An error occurred: {e}\")\n"
   ]
  },
  {
   "cell_type": "markdown",
   "id": "4050832d-6cb5-454d-9420-0105a34b3be4",
   "metadata": {},
   "source": [
    "Question-21 Write a Python program that reads a file and prints the number of occurrences of a specific word?"
   ]
  },
  {
   "cell_type": "code",
   "execution_count": 4,
   "id": "1b4955da-4368-4583-8a89-3f9281ecc0bf",
   "metadata": {},
   "outputs": [
    {
     "name": "stdin",
     "output_type": "stream",
     "text": [
      "Enter the file path:  file_path\n",
      "Enter the word to count:  2\n"
     ]
    },
    {
     "name": "stdout",
     "output_type": "stream",
     "text": [
      "The word '2' occurs The file does not exist. time(s) in the file.\n"
     ]
    }
   ],
   "source": [
    "# Program to count the occurrences of a specific word in a file\n",
    "\n",
    "def count_word_occurrences(file_path, word):\n",
    "    try:\n",
    "        # Open the file in read mode\n",
    "        with open(file_path, 'r') as file:\n",
    "            content = file.read()\n",
    "            # Convert content to lowercase to make the search case-insensitive\n",
    "            content = content.lower()\n",
    "            # Count the occurrences of the word\n",
    "            word_count = content.split().count(word.lower())\n",
    "        return word_count\n",
    "    except FileNotFoundError:\n",
    "        return \"The file does not exist.\"\n",
    "    except Exception as e:\n",
    "        return f\"An error occurred: {e}\"\n",
    "\n",
    "# Get file path and word from the user\n",
    "file_path = input(\"Enter the file path: \")\n",
    "word = input(\"Enter the word to count: \")\n",
    "\n",
    "# Count and display the occurrences\n",
    "occurrences = count_word_occurrences(file_path, word)\n",
    "print(f\"The word '{word}' occurs {occurrences} time(s) in the file.\")\n"
   ]
  },
  {
   "cell_type": "markdown",
   "id": "4814823b-c9ea-40d3-a3c0-a8cb3188d6c0",
   "metadata": {},
   "source": [
    "Question-21 How can you check if a file is empty before attempting to read its contents?"
   ]
  },
  {
   "cell_type": "code",
   "execution_count": 5,
   "id": "4f1da184-3ed9-4e29-ad9a-a1836fc322ca",
   "metadata": {},
   "outputs": [
    {
     "data": {
      "text/plain": [
       "'Kaggle.txt'"
      ]
     },
     "execution_count": 5,
     "metadata": {},
     "output_type": "execute_result"
    }
   ],
   "source": [
    "new = open(\"Kaggle.txt\",\"w\")\n",
    "\n",
    "\".name will check that if the file is exist or not\"\n",
    "\n",
    "new.name"
   ]
  },
  {
   "cell_type": "markdown",
   "id": "df1f68cb-987c-494c-bf2c-2fb21f09c415",
   "metadata": {},
   "source": [
    "Question-23 Write a Python program that writes to a log file when an error occurs during file handling?"
   ]
  },
  {
   "cell_type": "code",
   "execution_count": 8,
   "id": "551f714f-8eaf-42c7-b594-0c10e5e228f6",
   "metadata": {},
   "outputs": [],
   "source": [
    "import logging\n",
    "logging.basicConfig(filename = \"Room.log\", level = logging.DEBUG, format = '%(asctime)s %(message)s')\n",
    "\n",
    "logging.debug(\"This msg is for debugging\")\n",
    "logging.info(\"This is my info msg\")\n",
    "logging.warning(\"This is my warning msg\")\n",
    "logging.shutdown()"
   ]
  },
  {
   "cell_type": "code",
   "execution_count": null,
   "id": "daa639dd-bcdb-40db-a0d5-4028c4bf5941",
   "metadata": {},
   "outputs": [],
   "source": []
  },
  {
   "cell_type": "code",
   "execution_count": null,
   "id": "07e281d2-81d2-4037-9a5b-13b686ef1851",
   "metadata": {},
   "outputs": [],
   "source": []
  }
 ],
 "metadata": {
  "kernelspec": {
   "display_name": "Python 3 (ipykernel)",
   "language": "python",
   "name": "python3"
  },
  "language_info": {
   "codemirror_mode": {
    "name": "ipython",
    "version": 3
   },
   "file_extension": ".py",
   "mimetype": "text/x-python",
   "name": "python",
   "nbconvert_exporter": "python",
   "pygments_lexer": "ipython3",
   "version": "3.12.7"
  }
 },
 "nbformat": 4,
 "nbformat_minor": 5
}
